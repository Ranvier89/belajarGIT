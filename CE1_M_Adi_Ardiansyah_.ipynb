{
 "cells": [
  {
   "cell_type": "markdown",
   "metadata": {
    "id": "21Q6Yhc2Fy9p"
   },
   "source": [
    "# Coding Challenge 1 : Looping & Modulo\n",
    "\n",
    "Minggu ini, challenge kita adalah melakukan looping dengan Python. Contoh looping :"
   ]
  },
  {
   "cell_type": "code",
   "execution_count": 1,
   "metadata": {
    "colab": {
     "base_uri": "https://localhost:8080/"
    },
    "id": "n0EJql6MGZFK",
    "outputId": "48ef56bc-192e-47d9-85c4-f3db7ff445f7"
   },
   "outputs": [
    {
     "name": "stdout",
     "output_type": "stream",
     "text": [
      "1\n",
      "2\n"
     ]
    }
   ],
   "source": [
    "for x in range (1, 3) :\n",
    "  print(x)"
   ]
  },
  {
   "cell_type": "markdown",
   "metadata": {
    "id": "8Pk4S8y1GF_G"
   },
   "source": [
    "### **Soal 1**:\n",
    "\n",
    "Print out integers which are multiples of 3 from 1 to 22.\n",
    "(Print out bilangan bulat yang merupakan kelipatan 3 dari 1 sampai 22).\n",
    "\n",
    "**Ekspektasi jawaban:**\n",
    "\n",
    "Ketika kode kalian di-run, muncul angka-angka: 3, 6, 9, 12, 15, 18, 21. Gunakan looping."
   ]
  },
  {
   "cell_type": "code",
   "execution_count": 3,
   "metadata": {},
   "outputs": [
    {
     "name": "stdout",
     "output_type": "stream",
     "text": [
      "3\n",
      "6\n",
      "9\n",
      "12\n",
      "15\n",
      "18\n",
      "21\n"
     ]
    }
   ],
   "source": [
    "for i in range (1,23) :\n",
    "    if i%3 == 0 :\n",
    "        print (i)\n"
   ]
  },
  {
   "cell_type": "code",
   "execution_count": 4,
   "metadata": {},
   "outputs": [
    {
     "data": {
      "text/plain": [
       "[1, 2, 3, 4, 5, 6, 7, 8, 9, 10, 11, 12, 13, 14, 15, 16, 17, 18, 19, 20, 21, 22]"
      ]
     },
     "execution_count": 4,
     "metadata": {},
     "output_type": "execute_result"
    }
   ],
   "source": [
    "my_list = list(range (1,23) )\n",
    "my_list"
   ]
  },
  {
   "cell_type": "markdown",
   "metadata": {
    "id": "B3KWeHp2G3Pi"
   },
   "source": [
    "### **Soal 2**:\n",
    "\n",
    "Buat sebuah function di Python untuk mengecek apakah sebuah angka merupakan bilangan prima atau bukan.\n",
    "\n",
    "Ekspektasi jawaban:\n",
    "\n",
    "misal fungsi Anda bernama prime_check. Ketika kita jalankan prime_check(5), maka outputnya adalah '5 is a Prime number'. Fungsi ini harus bisa berlaku untuk input apa pun.\n",
    "\n",
    "Clue: Pengecekan bilangan prima menggunakan looping dan modulo.\n",
    "```(python)\n",
    "print('Hasil dari 5 modulo 2 adalah',5 % 2)  \n",
    "# 5 Modulo 2 sama dengan 1. Artinya, 5 dibagi 2, sisanya 1\n",
    "\n",
    "print('Hasil dari 6 modulo 3 adalah', 6 % 3)\n",
    "# 6 Modulo 3 sama dengan 0. Artinya 6 dibagi 3, sisanya 0.\n",
    "```\n",
    "\n",
    "Selamat mengerjakan!"
   ]
  },
  {
   "cell_type": "code",
   "execution_count": 2,
   "metadata": {
    "id": "jNzJrYNCJmBw"
   },
   "outputs": [
    {
     "name": "stdout",
     "output_type": "stream",
     "text": [
      "11 is prime\n"
     ]
    }
   ],
   "source": [
    "x = 11\n",
    "\n",
    "prima = True\n",
    "for i in range (2, x) :\n",
    "    if x % i == 0:\n",
    "        prima = False\n",
    "        break\n",
    "if prima :\n",
    "    print ( x, 'is prime')\n",
    "else :\n",
    "    print ( x, 'is not prime')"
   ]
  },
  {
   "cell_type": "code",
   "execution_count": 2,
   "metadata": {},
   "outputs": [],
   "source": [
    "def check_prime(x) :\n",
    "    prima = True\n",
    "    for i in range (2, x) :\n",
    "        if x % i == 0:\n",
    "            prima = False\n",
    "            break\n",
    "    if prima :\n",
    "        print ( x, 'is prime')\n",
    "    else :\n",
    "        print ( x, 'is not prime')\n",
    "    return (x)"
   ]
  },
  {
   "cell_type": "code",
   "execution_count": 9,
   "metadata": {},
   "outputs": [
    {
     "name": "stdout",
     "output_type": "stream",
     "text": [
      "11 is prime\n"
     ]
    },
    {
     "data": {
      "text/plain": [
       "11"
      ]
     },
     "execution_count": 9,
     "metadata": {},
     "output_type": "execute_result"
    }
   ],
   "source": [
    "check_prime (11)"
   ]
  },
  {
   "cell_type": "code",
   "execution_count": null,
   "metadata": {},
   "outputs": [],
   "source": []
  }
 ],
 "metadata": {
  "colab": {
   "provenance": []
  },
  "kernelspec": {
   "display_name": "Python 3 (ipykernel)",
   "language": "python",
   "name": "python3"
  },
  "language_info": {
   "codemirror_mode": {
    "name": "ipython",
    "version": 3
   },
   "file_extension": ".py",
   "mimetype": "text/x-python",
   "name": "python",
   "nbconvert_exporter": "python",
   "pygments_lexer": "ipython3",
   "version": "3.11.5"
  }
 },
 "nbformat": 4,
 "nbformat_minor": 1
}
